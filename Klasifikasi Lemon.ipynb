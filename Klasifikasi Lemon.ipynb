{
 "cells": [
  {
   "cell_type": "code",
   "execution_count": 2,
   "id": "8d90c7b9-5c7c-4762-8850-421227dbb3e2",
   "metadata": {},
   "outputs": [
    {
     "data": {
      "text/html": [
       "<div>\n",
       "<style scoped>\n",
       "    .dataframe tbody tr th:only-of-type {\n",
       "        vertical-align: middle;\n",
       "    }\n",
       "\n",
       "    .dataframe tbody tr th {\n",
       "        vertical-align: top;\n",
       "    }\n",
       "\n",
       "    .dataframe thead th {\n",
       "        text-align: right;\n",
       "    }\n",
       "</style>\n",
       "<table border=\"1\" class=\"dataframe\">\n",
       "  <thead>\n",
       "    <tr style=\"text-align: right;\">\n",
       "      <th></th>\n",
       "      <th>diameter</th>\n",
       "      <th>berat</th>\n",
       "      <th>tebal_kulit</th>\n",
       "      <th>kadar_gula</th>\n",
       "      <th>asal_daerah</th>\n",
       "      <th>musim_panen</th>\n",
       "      <th>warna</th>\n",
       "      <th>kualitas</th>\n",
       "    </tr>\n",
       "  </thead>\n",
       "  <tbody>\n",
       "    <tr>\n",
       "      <th>0</th>\n",
       "      <td>57.1</td>\n",
       "      <td>105</td>\n",
       "      <td>3.7</td>\n",
       "      <td>8.4</td>\n",
       "      <td>California</td>\n",
       "      <td>Puncak</td>\n",
       "      <td>Kuning cerah</td>\n",
       "      <td>Grade A</td>\n",
       "    </tr>\n",
       "    <tr>\n",
       "      <th>1</th>\n",
       "      <td>60.2</td>\n",
       "      <td>118</td>\n",
       "      <td>3.8</td>\n",
       "      <td>8.2</td>\n",
       "      <td>Malang</td>\n",
       "      <td>Puncak</td>\n",
       "      <td>Kuning cerah</td>\n",
       "      <td>Grade A</td>\n",
       "    </tr>\n",
       "    <tr>\n",
       "      <th>2</th>\n",
       "      <td>48.5</td>\n",
       "      <td>80</td>\n",
       "      <td>4.6</td>\n",
       "      <td>7.8</td>\n",
       "      <td>Medan</td>\n",
       "      <td>Akhir</td>\n",
       "      <td>Kuning kehijauan</td>\n",
       "      <td>Grade B</td>\n",
       "    </tr>\n",
       "    <tr>\n",
       "      <th>3</th>\n",
       "      <td>65.8</td>\n",
       "      <td>136</td>\n",
       "      <td>5.1</td>\n",
       "      <td>7.0</td>\n",
       "      <td>California</td>\n",
       "      <td>Akhir</td>\n",
       "      <td>Hijau pekat</td>\n",
       "      <td>Reject</td>\n",
       "    </tr>\n",
       "    <tr>\n",
       "      <th>4</th>\n",
       "      <td>55.9</td>\n",
       "      <td>101</td>\n",
       "      <td>3.5</td>\n",
       "      <td>8.5</td>\n",
       "      <td>Malang</td>\n",
       "      <td>Awal</td>\n",
       "      <td>Kuning cerah</td>\n",
       "      <td>Grade A</td>\n",
       "    </tr>\n",
       "    <tr>\n",
       "      <th>...</th>\n",
       "      <td>...</td>\n",
       "      <td>...</td>\n",
       "      <td>...</td>\n",
       "      <td>...</td>\n",
       "      <td>...</td>\n",
       "      <td>...</td>\n",
       "      <td>...</td>\n",
       "      <td>...</td>\n",
       "    </tr>\n",
       "    <tr>\n",
       "      <th>790</th>\n",
       "      <td>54.9</td>\n",
       "      <td>98</td>\n",
       "      <td>4.2</td>\n",
       "      <td>7.7</td>\n",
       "      <td>Medan</td>\n",
       "      <td>Akhir</td>\n",
       "      <td>Kuning kehijauan</td>\n",
       "      <td>Grade B</td>\n",
       "    </tr>\n",
       "    <tr>\n",
       "      <th>791</th>\n",
       "      <td>67.2</td>\n",
       "      <td>141</td>\n",
       "      <td>5.7</td>\n",
       "      <td>6.8</td>\n",
       "      <td>California</td>\n",
       "      <td>Akhir</td>\n",
       "      <td>Hijau pekat</td>\n",
       "      <td>Reject</td>\n",
       "    </tr>\n",
       "    <tr>\n",
       "      <th>792</th>\n",
       "      <td>57.0</td>\n",
       "      <td>105</td>\n",
       "      <td>3.5</td>\n",
       "      <td>8.4</td>\n",
       "      <td>Malang</td>\n",
       "      <td>Awal</td>\n",
       "      <td>Kuning cerah</td>\n",
       "      <td>Grade A</td>\n",
       "    </tr>\n",
       "    <tr>\n",
       "      <th>793</th>\n",
       "      <td>51.1</td>\n",
       "      <td>89</td>\n",
       "      <td>4.5</td>\n",
       "      <td>7.9</td>\n",
       "      <td>Medan</td>\n",
       "      <td>Puncak</td>\n",
       "      <td>Kuning kehijauan</td>\n",
       "      <td>Grade B</td>\n",
       "    </tr>\n",
       "    <tr>\n",
       "      <th>794</th>\n",
       "      <td>59.0</td>\n",
       "      <td>110</td>\n",
       "      <td>3.9</td>\n",
       "      <td>8.0</td>\n",
       "      <td>California</td>\n",
       "      <td>Puncak</td>\n",
       "      <td>Kuning cerah</td>\n",
       "      <td>Grade A</td>\n",
       "    </tr>\n",
       "  </tbody>\n",
       "</table>\n",
       "<p>795 rows × 8 columns</p>\n",
       "</div>"
      ],
      "text/plain": [
       "     diameter  berat  tebal_kulit  kadar_gula asal_daerah musim_panen  \\\n",
       "0        57.1    105          3.7         8.4  California      Puncak   \n",
       "1        60.2    118          3.8         8.2      Malang      Puncak   \n",
       "2        48.5     80          4.6         7.8       Medan       Akhir   \n",
       "3        65.8    136          5.1         7.0  California       Akhir   \n",
       "4        55.9    101          3.5         8.5      Malang        Awal   \n",
       "..        ...    ...          ...         ...         ...         ...   \n",
       "790      54.9     98          4.2         7.7       Medan       Akhir   \n",
       "791      67.2    141          5.7         6.8  California       Akhir   \n",
       "792      57.0    105          3.5         8.4      Malang        Awal   \n",
       "793      51.1     89          4.5         7.9       Medan      Puncak   \n",
       "794      59.0    110          3.9         8.0  California      Puncak   \n",
       "\n",
       "                warna kualitas  \n",
       "0        Kuning cerah  Grade A  \n",
       "1        Kuning cerah  Grade A  \n",
       "2    Kuning kehijauan  Grade B  \n",
       "3         Hijau pekat   Reject  \n",
       "4        Kuning cerah  Grade A  \n",
       "..                ...      ...  \n",
       "790  Kuning kehijauan  Grade B  \n",
       "791       Hijau pekat   Reject  \n",
       "792      Kuning cerah  Grade A  \n",
       "793  Kuning kehijauan  Grade B  \n",
       "794      Kuning cerah  Grade A  \n",
       "\n",
       "[795 rows x 8 columns]"
      ]
     },
     "execution_count": 2,
     "metadata": {},
     "output_type": "execute_result"
    }
   ],
   "source": [
    "import pandas as pd\n",
    "df = pd.read_csv(\"dataset_lemon.csv\")\n",
    "df"
   ]
  },
  {
   "cell_type": "code",
   "execution_count": 3,
   "id": "1a1b8e51-a568-4795-99e3-56694cad3adc",
   "metadata": {},
   "outputs": [
    {
     "data": {
      "text/html": [
       "<div>\n",
       "<style scoped>\n",
       "    .dataframe tbody tr th:only-of-type {\n",
       "        vertical-align: middle;\n",
       "    }\n",
       "\n",
       "    .dataframe tbody tr th {\n",
       "        vertical-align: top;\n",
       "    }\n",
       "\n",
       "    .dataframe thead th {\n",
       "        text-align: right;\n",
       "    }\n",
       "</style>\n",
       "<table border=\"1\" class=\"dataframe\">\n",
       "  <thead>\n",
       "    <tr style=\"text-align: right;\">\n",
       "      <th></th>\n",
       "      <th>diameter</th>\n",
       "      <th>berat</th>\n",
       "      <th>tebal_kulit</th>\n",
       "      <th>kadar_gula</th>\n",
       "    </tr>\n",
       "  </thead>\n",
       "  <tbody>\n",
       "    <tr>\n",
       "      <th>count</th>\n",
       "      <td>795.000000</td>\n",
       "      <td>795.000000</td>\n",
       "      <td>795.000000</td>\n",
       "      <td>795.000000</td>\n",
       "    </tr>\n",
       "    <tr>\n",
       "      <th>mean</th>\n",
       "      <td>56.646918</td>\n",
       "      <td>105.427673</td>\n",
       "      <td>4.324906</td>\n",
       "      <td>7.772075</td>\n",
       "    </tr>\n",
       "    <tr>\n",
       "      <th>std</th>\n",
       "      <td>6.134574</td>\n",
       "      <td>19.890398</td>\n",
       "      <td>0.711215</td>\n",
       "      <td>0.514304</td>\n",
       "    </tr>\n",
       "    <tr>\n",
       "      <th>min</th>\n",
       "      <td>45.500000</td>\n",
       "      <td>70.000000</td>\n",
       "      <td>3.400000</td>\n",
       "      <td>6.700000</td>\n",
       "    </tr>\n",
       "    <tr>\n",
       "      <th>25%</th>\n",
       "      <td>51.600000</td>\n",
       "      <td>91.000000</td>\n",
       "      <td>3.800000</td>\n",
       "      <td>7.400000</td>\n",
       "    </tr>\n",
       "    <tr>\n",
       "      <th>50%</th>\n",
       "      <td>56.100000</td>\n",
       "      <td>103.000000</td>\n",
       "      <td>4.200000</td>\n",
       "      <td>7.900000</td>\n",
       "    </tr>\n",
       "    <tr>\n",
       "      <th>75%</th>\n",
       "      <td>61.300000</td>\n",
       "      <td>121.000000</td>\n",
       "      <td>4.600000</td>\n",
       "      <td>8.200000</td>\n",
       "    </tr>\n",
       "    <tr>\n",
       "      <th>max</th>\n",
       "      <td>68.500000</td>\n",
       "      <td>145.000000</td>\n",
       "      <td>6.000000</td>\n",
       "      <td>8.600000</td>\n",
       "    </tr>\n",
       "  </tbody>\n",
       "</table>\n",
       "</div>"
      ],
      "text/plain": [
       "         diameter       berat  tebal_kulit  kadar_gula\n",
       "count  795.000000  795.000000   795.000000  795.000000\n",
       "mean    56.646918  105.427673     4.324906    7.772075\n",
       "std      6.134574   19.890398     0.711215    0.514304\n",
       "min     45.500000   70.000000     3.400000    6.700000\n",
       "25%     51.600000   91.000000     3.800000    7.400000\n",
       "50%     56.100000  103.000000     4.200000    7.900000\n",
       "75%     61.300000  121.000000     4.600000    8.200000\n",
       "max     68.500000  145.000000     6.000000    8.600000"
      ]
     },
     "execution_count": 3,
     "metadata": {},
     "output_type": "execute_result"
    }
   ],
   "source": [
    "df.describe()"
   ]
  },
  {
   "cell_type": "code",
   "execution_count": 4,
   "id": "957b2aa9-55b4-40cd-b11a-75bd629a9cb1",
   "metadata": {},
   "outputs": [
    {
     "name": "stdout",
     "output_type": "stream",
     "text": [
      "<class 'pandas.core.frame.DataFrame'>\n",
      "RangeIndex: 795 entries, 0 to 794\n",
      "Data columns (total 8 columns):\n",
      " #   Column       Non-Null Count  Dtype  \n",
      "---  ------       --------------  -----  \n",
      " 0   diameter     795 non-null    float64\n",
      " 1   berat        795 non-null    int64  \n",
      " 2   tebal_kulit  795 non-null    float64\n",
      " 3   kadar_gula   795 non-null    float64\n",
      " 4   asal_daerah  795 non-null    object \n",
      " 5   musim_panen  795 non-null    object \n",
      " 6   warna        795 non-null    object \n",
      " 7   kualitas     795 non-null    object \n",
      "dtypes: float64(3), int64(1), object(4)\n",
      "memory usage: 49.8+ KB\n"
     ]
    }
   ],
   "source": [
    "df.info()"
   ]
  },
  {
   "cell_type": "code",
   "execution_count": 5,
   "id": "9d8471f0-a210-4c3b-9414-ed7f86fc10d7",
   "metadata": {},
   "outputs": [
    {
     "data": {
      "text/plain": [
       "asal_daerah\n",
       "California    265\n",
       "Malang        265\n",
       "Medan         265\n",
       "Name: count, dtype: int64"
      ]
     },
     "execution_count": 5,
     "metadata": {},
     "output_type": "execute_result"
    }
   ],
   "source": [
    "df[\"asal_daerah\"].value_counts()"
   ]
  },
  {
   "cell_type": "code",
   "execution_count": 6,
   "id": "904d414e-9e73-4c3c-b55d-2a8499df9b88",
   "metadata": {},
   "outputs": [
    {
     "data": {
      "text/plain": [
       "musim_panen\n",
       "Puncak    318\n",
       "Akhir     239\n",
       "Awal      238\n",
       "Name: count, dtype: int64"
      ]
     },
     "execution_count": 6,
     "metadata": {},
     "output_type": "execute_result"
    }
   ],
   "source": [
    "df[\"musim_panen\"].value_counts()"
   ]
  },
  {
   "cell_type": "code",
   "execution_count": 7,
   "id": "a200c9d6-37a4-4efa-99e8-29f261b612cb",
   "metadata": {},
   "outputs": [
    {
     "data": {
      "text/plain": [
       "warna\n",
       "Kuning cerah        346\n",
       "Kuning kehijauan    290\n",
       "Hijau pekat         159\n",
       "Name: count, dtype: int64"
      ]
     },
     "execution_count": 7,
     "metadata": {},
     "output_type": "execute_result"
    }
   ],
   "source": [
    "df[\"warna\"].value_counts()"
   ]
  },
  {
   "cell_type": "code",
   "execution_count": 9,
   "id": "8cb767d0-ef38-4a6a-9cbf-950bd4044135",
   "metadata": {},
   "outputs": [
    {
     "data": {
      "text/plain": [
       "kualitas\n",
       "Grade A    346\n",
       "Grade B    290\n",
       "Reject     159\n",
       "Name: count, dtype: int64"
      ]
     },
     "execution_count": 9,
     "metadata": {},
     "output_type": "execute_result"
    }
   ],
   "source": [
    "df[\"kualitas\"].value_counts()"
   ]
  },
  {
   "cell_type": "code",
   "execution_count": 72,
   "id": "db648d68-089f-410a-94b1-e70bfcddd1a3",
   "metadata": {},
   "outputs": [
    {
     "data": {
      "text/plain": [
       "<function matplotlib.pyplot.show(close=None, block=None)>"
      ]
     },
     "execution_count": 72,
     "metadata": {},
     "output_type": "execute_result"
    },
    {
     "data": {
      "image/png": "[encoded data removed]",
      "text/plain": [
       "<Figure size 600x500 with 1 Axes>"
      ]
     },
     "metadata": {},
     "output_type": "display_data"
    }
   ],
   "source": [
    "import matplotlib.pyplot as plt\n",
    "\n",
    "gradea = df[df[\"kualitas\"]==\"Grade A\"]\n",
    "gradeb = df[df[\"kualitas\"]==\"Grade B\"]\n",
    "reject = df[df[\"kualitas\"]==\"Reject\"]\n",
    "\n",
    "plt.figure(figsize=(6,5))\n",
    "\n",
    "plt.scatter(gradea[\"diameter\"], gradea[\"berat\"], s=100, alpha=0.7, color=\"green\", label=\"Grade A\")\n",
    "plt.scatter(gradeb[\"diameter\"], gradeb[\"berat\"], s=100, alpha=0.7, color=\"orange\", label=\"Grade B\")\n",
    "plt.scatter(reject[\"diameter\"], reject[\"berat\"], s=100, alpha=0.7, color=\"red\", label=\"Reject\")\n",
    "\n",
    "plt.xlabel=(\"Diameter\")\n",
    "plt.ylabel=(\"Berat\")\n",
    "plt.title(\"Diameter vs Berat\")\n",
    "plt.legend()\n",
    "plt.grid(True, linestyle=\"--\", alpha=0.5)\n",
    "plt.show"
   ]
  },
  {
   "cell_type": "code",
   "execution_count": 74,
   "id": "776dbc2f-e786-456e-9104-6118547ea725",
   "metadata": {},
   "outputs": [
    {
     "data": {
      "text/plain": [
       "<function matplotlib.pyplot.show(close=None, block=None)>"
      ]
     },
     "execution_count": 74,
     "metadata": {},
     "output_type": "execute_result"
    },
    {
     "data": {
      "image/png": "[encoded data removed]",
      "text/plain": [
       "<Figure size 600x500 with 1 Axes>"
      ]
     },
     "metadata": {},
     "output_type": "display_data"
    }
   ],
   "source": [
    "import matplotlib.pyplot as plt\n",
    "\n",
    "gradea = df[df[\"kualitas\"]==\"Grade A\"]\n",
    "gradeb = df[df[\"kualitas\"]==\"Grade B\"]\n",
    "reject = df[df[\"kualitas\"]==\"Reject\"]\n",
    "\n",
    "plt.figure(figsize=(6,5))\n",
    "\n",
    "plt.scatter(gradea[\"tebal_kulit\"], gradea[\"kadar_gula\"], s=100, alpha=0.7, color=\"green\", label=\"Grade A\")\n",
    "plt.scatter(gradeb[\"tebal_kulit\"], gradeb[\"kadar_gula\"], s=100, alpha=0.7, color=\"orange\", label=\"Grade B\")\n",
    "plt.scatter(reject[\"tebal_kulit\"], reject[\"kadar_gula\"], s=100, alpha=0.7, color=\"red\", label=\"Reject\")\n",
    "\n",
    "plt.xlabel=(\"Tebal Kulit\")\n",
    "plt.ylabel=(\"Kadar Gula\")\n",
    "plt.title(\" Tebal Kulit vs Kadar Gula\")\n",
    "plt.legend()\n",
    "plt.grid(True, linestyle=\"--\", alpha=0.5)\n",
    "plt.show"
   ]
  },
  {
   "cell_type": "code",
   "execution_count": 55,
   "id": "c39b8751-b670-4eb6-a80d-752f6781ca15",
   "metadata": {},
   "outputs": [
    {
     "name": "stdout",
     "output_type": "stream",
     "text": [
      "Accuracy Score : 1.0\n",
      "\n",
      "Classification Report :\n",
      "               precision    recall  f1-score   support\n",
      "\n",
      "     Grade A       1.00      1.00      1.00        71\n",
      "     Grade B       1.00      1.00      1.00        53\n",
      "      Reject       1.00      1.00      1.00        35\n",
      "\n",
      "    accuracy                           1.00       159\n",
      "   macro avg       1.00      1.00      1.00       159\n",
      "weighted avg       1.00      1.00      1.00       159\n",
      "\n",
      "\n",
      "Confusion Matrix :\n",
      " [[71  0  0]\n",
      " [ 0 53  0]\n",
      " [ 0  0 35]]\n"
     ]
    }
   ],
   "source": [
    "from sklearn.linear_model import LogisticRegression\n",
    "from sklearn.model_selection import train_test_split\n",
    "from sklearn.metrics import accuracy_score, classification_report, confusion_matrix\n",
    "from sklearn.preprocessing import StandardScaler, OneHotEncoder, OrdinalEncoder\n",
    "from sklearn.pipeline import Pipeline\n",
    "from sklearn.compose import ColumnTransformer\n",
    "\n",
    "X = df[[\"diameter\",\"berat\",\"tebal_kulit\",\"kadar_gula\",\"asal_daerah\",\"musim_panen\",\"warna\"]]\n",
    "y = df[\"kualitas\"]\n",
    "\n",
    "X_train, X_test, y_train, y_test = train_test_split(\n",
    "    X, y, test_size=0.2, random_state=42\n",
    ")\n",
    "\n",
    "numeric_columns = [\"diameter\", \"berat\", \"tebal_kulit\", \"kadar_gula\"]\n",
    "categorical_columns = [\"asal_daerah\",\"musim_panen\"]\n",
    "ordinal_columns = [\"warna\"]\n",
    "\n",
    "warna_order = [\"Hijau pekat\",\"Kuning kehijauan\",\"Kuning cerah\"]\n",
    "ordinal_order = [warna_order]\n",
    "\n",
    "preprocessing = ColumnTransformer(\n",
    "    transformers = [\n",
    "        (\"scaler\", StandardScaler(), numeric_columns),\n",
    "        (\"ohe\", OneHotEncoder(), categorical_columns),\n",
    "        (\"ordinal\", OrdinalEncoder(categories=ordinal_order), ordinal_columns)\n",
    "    ]\n",
    ")\n",
    "\n",
    "model = Pipeline(\n",
    "    steps = [\n",
    "        (\"preprocessing\", preprocessing),\n",
    "        (\"model\", LogisticRegression())\n",
    "    ]\n",
    ")\n",
    "\n",
    "model.fit(X_train, y_train)\n",
    "y_pred = model.predict(X_test)\n",
    "\n",
    "print(\"Accuracy Score :\", accuracy_score(y_test, y_pred))\n",
    "print(\"\\nClassification Report :\\n\", classification_report(y_test, y_pred))\n",
    "print(\"\\nConfusion Matrix :\\n\", confusion_matrix(y_test, y_pred))"
   ]
  },
  {
   "cell_type": "code",
   "execution_count": 56,
   "id": "38838631-d220-4569-9f7a-af53920da4c5",
   "metadata": {},
   "outputs": [
    {
     "name": "stdout",
     "output_type": "stream",
     "text": [
      "Model memprediksi Grade A dengan tingkat keyakinan 99.94%\n"
     ]
    }
   ],
   "source": [
    "data_baru = pd.DataFrame([[60.6, 120, 3.7, 8.4, \"California\", \"Puncak\", \"Kuning cerah\"]], \n",
    "                         columns=[\"diameter\",\"berat\",\"tebal_kulit\",\"kadar_gula\",\"asal_daerah\",\"musim_panen\",\"warna\"])\n",
    "prediksi = model.predict(data_baru)[0]\n",
    "presentase = max(model.predict_proba(data_baru)[0])\n",
    "print(f\"Model memprediksi {prediksi} dengan tingkat keyakinan {presentase*100:.2f}%\")"
   ]
  },
  {
   "cell_type": "code",
   "execution_count": 53,
   "id": "924fad88-0469-4b5b-b455-abc5c099cd2e",
   "metadata": {},
   "outputs": [
    {
     "data": {
      "text/html": [
       "<div>\n",
       "<style scoped>\n",
       "    .dataframe tbody tr th:only-of-type {\n",
       "        vertical-align: middle;\n",
       "    }\n",
       "\n",
       "    .dataframe tbody tr th {\n",
       "        vertical-align: top;\n",
       "    }\n",
       "\n",
       "    .dataframe thead th {\n",
       "        text-align: right;\n",
       "    }\n",
       "</style>\n",
       "<table border=\"1\" class=\"dataframe\">\n",
       "  <thead>\n",
       "    <tr style=\"text-align: right;\">\n",
       "      <th></th>\n",
       "      <th>diameter</th>\n",
       "      <th>berat</th>\n",
       "      <th>tebal_kulit</th>\n",
       "      <th>kadar_gula</th>\n",
       "      <th>asal_daerah</th>\n",
       "      <th>musim_panen</th>\n",
       "      <th>warna</th>\n",
       "      <th>kualitas</th>\n",
       "    </tr>\n",
       "  </thead>\n",
       "  <tbody>\n",
       "    <tr>\n",
       "      <th>0</th>\n",
       "      <td>57.1</td>\n",
       "      <td>105</td>\n",
       "      <td>3.7</td>\n",
       "      <td>8.4</td>\n",
       "      <td>California</td>\n",
       "      <td>Puncak</td>\n",
       "      <td>Kuning cerah</td>\n",
       "      <td>Grade A</td>\n",
       "    </tr>\n",
       "    <tr>\n",
       "      <th>1</th>\n",
       "      <td>60.2</td>\n",
       "      <td>118</td>\n",
       "      <td>3.8</td>\n",
       "      <td>8.2</td>\n",
       "      <td>Malang</td>\n",
       "      <td>Puncak</td>\n",
       "      <td>Kuning cerah</td>\n",
       "      <td>Grade A</td>\n",
       "    </tr>\n",
       "    <tr>\n",
       "      <th>2</th>\n",
       "      <td>48.5</td>\n",
       "      <td>80</td>\n",
       "      <td>4.6</td>\n",
       "      <td>7.8</td>\n",
       "      <td>Medan</td>\n",
       "      <td>Akhir</td>\n",
       "      <td>Kuning kehijauan</td>\n",
       "      <td>Grade B</td>\n",
       "    </tr>\n",
       "    <tr>\n",
       "      <th>3</th>\n",
       "      <td>65.8</td>\n",
       "      <td>136</td>\n",
       "      <td>5.1</td>\n",
       "      <td>7.0</td>\n",
       "      <td>California</td>\n",
       "      <td>Akhir</td>\n",
       "      <td>Hijau pekat</td>\n",
       "      <td>Reject</td>\n",
       "    </tr>\n",
       "    <tr>\n",
       "      <th>4</th>\n",
       "      <td>55.9</td>\n",
       "      <td>101</td>\n",
       "      <td>3.5</td>\n",
       "      <td>8.5</td>\n",
       "      <td>Malang</td>\n",
       "      <td>Awal</td>\n",
       "      <td>Kuning cerah</td>\n",
       "      <td>Grade A</td>\n",
       "    </tr>\n",
       "    <tr>\n",
       "      <th>...</th>\n",
       "      <td>...</td>\n",
       "      <td>...</td>\n",
       "      <td>...</td>\n",
       "      <td>...</td>\n",
       "      <td>...</td>\n",
       "      <td>...</td>\n",
       "      <td>...</td>\n",
       "      <td>...</td>\n",
       "    </tr>\n",
       "    <tr>\n",
       "      <th>790</th>\n",
       "      <td>54.9</td>\n",
       "      <td>98</td>\n",
       "      <td>4.2</td>\n",
       "      <td>7.7</td>\n",
       "      <td>Medan</td>\n",
       "      <td>Akhir</td>\n",
       "      <td>Kuning kehijauan</td>\n",
       "      <td>Grade B</td>\n",
       "    </tr>\n",
       "    <tr>\n",
       "      <th>791</th>\n",
       "      <td>67.2</td>\n",
       "      <td>141</td>\n",
       "      <td>5.7</td>\n",
       "      <td>6.8</td>\n",
       "      <td>California</td>\n",
       "      <td>Akhir</td>\n",
       "      <td>Hijau pekat</td>\n",
       "      <td>Reject</td>\n",
       "    </tr>\n",
       "    <tr>\n",
       "      <th>792</th>\n",
       "      <td>57.0</td>\n",
       "      <td>105</td>\n",
       "      <td>3.5</td>\n",
       "      <td>8.4</td>\n",
       "      <td>Malang</td>\n",
       "      <td>Awal</td>\n",
       "      <td>Kuning cerah</td>\n",
       "      <td>Grade A</td>\n",
       "    </tr>\n",
       "    <tr>\n",
       "      <th>793</th>\n",
       "      <td>51.1</td>\n",
       "      <td>89</td>\n",
       "      <td>4.5</td>\n",
       "      <td>7.9</td>\n",
       "      <td>Medan</td>\n",
       "      <td>Puncak</td>\n",
       "      <td>Kuning kehijauan</td>\n",
       "      <td>Grade B</td>\n",
       "    </tr>\n",
       "    <tr>\n",
       "      <th>794</th>\n",
       "      <td>59.0</td>\n",
       "      <td>110</td>\n",
       "      <td>3.9</td>\n",
       "      <td>8.0</td>\n",
       "      <td>California</td>\n",
       "      <td>Puncak</td>\n",
       "      <td>Kuning cerah</td>\n",
       "      <td>Grade A</td>\n",
       "    </tr>\n",
       "  </tbody>\n",
       "</table>\n",
       "<p>795 rows × 8 columns</p>\n",
       "</div>"
      ],
      "text/plain": [
       "     diameter  berat  tebal_kulit  kadar_gula asal_daerah musim_panen  \\\n",
       "0        57.1    105          3.7         8.4  California      Puncak   \n",
       "1        60.2    118          3.8         8.2      Malang      Puncak   \n",
       "2        48.5     80          4.6         7.8       Medan       Akhir   \n",
       "3        65.8    136          5.1         7.0  California       Akhir   \n",
       "4        55.9    101          3.5         8.5      Malang        Awal   \n",
       "..        ...    ...          ...         ...         ...         ...   \n",
       "790      54.9     98          4.2         7.7       Medan       Akhir   \n",
       "791      67.2    141          5.7         6.8  California       Akhir   \n",
       "792      57.0    105          3.5         8.4      Malang        Awal   \n",
       "793      51.1     89          4.5         7.9       Medan      Puncak   \n",
       "794      59.0    110          3.9         8.0  California      Puncak   \n",
       "\n",
       "                warna kualitas  \n",
       "0        Kuning cerah  Grade A  \n",
       "1        Kuning cerah  Grade A  \n",
       "2    Kuning kehijauan  Grade B  \n",
       "3         Hijau pekat   Reject  \n",
       "4        Kuning cerah  Grade A  \n",
       "..                ...      ...  \n",
       "790  Kuning kehijauan  Grade B  \n",
       "791       Hijau pekat   Reject  \n",
       "792      Kuning cerah  Grade A  \n",
       "793  Kuning kehijauan  Grade B  \n",
       "794      Kuning cerah  Grade A  \n",
       "\n",
       "[795 rows x 8 columns]"
      ]
     },
     "execution_count": 53,
     "metadata": {},
     "output_type": "execute_result"
    }
   ],
   "source": [
    "df"
   ]
  },
  {
   "cell_type": "code",
   "execution_count": 67,
   "id": "9712f35b-770f-4c00-99f4-a402eae1d733",
   "metadata": {},
   "outputs": [
    {
     "data": {
      "text/plain": [
       "['model_klasifikasi_lemon.joblib']"
      ]
     },
     "execution_count": 67,
     "metadata": {},
     "output_type": "execute_result"
    }
   ],
   "source": [
    "import joblib\n",
    "\n",
    "joblib.dump(model, \"model_klasifikasi_lemon.joblib\")"
   ]
  },
  {
   "cell_type": "code",
   "execution_count": null,
   "id": "d39e2ec1-a804-4513-bab6-2a71a4f154df",
   "metadata": {},
   "outputs": [],
   "source": []
  }
 ],
 "metadata": {
  "kernelspec": {
   "display_name": "Python 3 (ipykernel)",
   "language": "python",
   "name": "python3"
  },
  "language_info": {
   "codemirror_mode": {
    "name": "ipython",
    "version": 3
   },
   "file_extension": ".py",
   "mimetype": "text/x-python",
   "name": "python",
   "nbconvert_exporter": "python",
   "pygments_lexer": "ipython3",
   "version": "3.13.5"
  }
 },
 "nbformat": 4,
 "nbformat_minor": 5
}
